{
 "cells": [
  {
   "cell_type": "code",
   "execution_count": 1,
   "metadata": {},
   "outputs": [
    {
     "name": "stdout",
     "output_type": "stream",
     "text": [
      "Test folder created with subfolders and images!\n"
     ]
    }
   ],
   "source": [
    "import os\n",
    "import random\n",
    "import shutil\n",
    "\n",
    "# 1. Paths\n",
    "data_dir = \"./PlantVillage\"        # Original data\n",
    "test_dir = \"./PlantVillageTest\"    # New test directory\n",
    "\n",
    "# 2. Classification types (must match your classes exactly)\n",
    "classification_types = [\n",
    "    'Pepper__bell___Bacterial_spot','Pepper__bell___healthy',\n",
    "    'Potato___Early_blight','Potato___Late_blight','Potato___healthy',\n",
    "    'Tomato_Bacterial_spot','Tomato_Early_blight','Tomato_Late_blight',\n",
    "    'Tomato_Leaf_Mold','Tomato_Septoria_leaf_spot',\n",
    "    'Tomato_Spider_mites_Two_spotted_spider_mite','Tomato__Target_Spot',\n",
    "    'Tomato__Tomato_YellowLeaf__Curl_Virus','Tomato__Tomato_mosaic_virus',\n",
    "    'Tomato_healthy'\n",
    "]\n",
    "\n",
    "# 3. Make sure the test_dir exists\n",
    "os.makedirs(test_dir, exist_ok=True)\n",
    "\n",
    "# 4. Loop over each class folder\n",
    "for disease_name in classification_types:\n",
    "    # Original subfolder for this class\n",
    "    source_folder = os.path.join(data_dir, disease_name)\n",
    "    \n",
    "    # Matching subfolder in the test directory\n",
    "    destination_folder = os.path.join(test_dir, disease_name)\n",
    "    \n",
    "    # Create that subfolder if it doesn't exist\n",
    "    os.makedirs(destination_folder, exist_ok=True)\n",
    "    \n",
    "    # List all images in this class's folder\n",
    "    all_images = os.listdir(source_folder)\n",
    "    \n",
    "    # Decide how many images you want to move (e.g., 20%)\n",
    "    test_count = int(len(all_images) * 0.2)  # 20% as an example\n",
    "    test_images = random.sample(all_images, test_count)\n",
    "    \n",
    "    for img_name in test_images:\n",
    "        src_path = os.path.join(source_folder, img_name)\n",
    "        dst_path = os.path.join(destination_folder, img_name)\n",
    "        \n",
    "        # COPY the file (use shutil.move if you prefer to remove from training folder)\n",
    "        shutil.copy(src_path, dst_path)\n",
    "\n",
    "print(\"Test folder created with subfolders and images!\")\n"
   ]
  }
 ],
 "metadata": {
  "kernelspec": {
   "display_name": "venv",
   "language": "python",
   "name": "python3"
  },
  "language_info": {
   "codemirror_mode": {
    "name": "ipython",
    "version": 3
   },
   "file_extension": ".py",
   "mimetype": "text/x-python",
   "name": "python",
   "nbconvert_exporter": "python",
   "pygments_lexer": "ipython3",
   "version": "3.10.16"
  }
 },
 "nbformat": 4,
 "nbformat_minor": 2
}
